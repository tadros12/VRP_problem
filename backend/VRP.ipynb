{
 "cells": [
  {
   "cell_type": "markdown",
   "metadata": {},
   "source": [
    "# problem\n"
   ]
  },
  {
   "cell_type": "markdown",
   "metadata": {},
   "source": [
    "create data set randomly"
   ]
  },
  {
   "cell_type": "code",
   "execution_count": 1,
   "metadata": {},
   "outputs": [
    {
     "name": "stdout",
     "output_type": "stream",
     "text": [
      "{'customers': 20, 'x': [37.454011884736246, 73.1993941811405, 15.601864044243651, 5.8083612168199465, 60.11150117432088, 2.0584494295802447, 83.24426408004217, 18.182496720710063, 30.42422429595377, 43.194501864211574, 61.18528947223795, 29.214464853521815, 45.606998421703594, 19.967378215835975, 59.24145688620425, 60.75448519014384, 6.505159298527952, 96.56320330745594, 30.46137691733707, 68.42330265121569], 'y': [95.07143064099162, 59.86584841970366, 15.599452033620265, 86.61761457749351, 70.80725777960456, 96.99098521619943, 21.233911067827616, 18.34045098534338, 52.475643163223786, 29.122914019804192, 13.949386065204184, 36.63618432936917, 78.51759613930136, 51.42344384136116, 4.645041271999773, 17.052412368729154, 94.88855372533332, 80.83973481164611, 9.767211400638388, 44.01524937396013]}\n",
      "            x          y\n",
      "0   37.454012  95.071431\n",
      "1   73.199394  59.865848\n",
      "2   15.601864  15.599452\n",
      "3    5.808361  86.617615\n",
      "4   60.111501  70.807258\n",
      "5    2.058449  96.990985\n",
      "6   83.244264  21.233911\n",
      "7   18.182497  18.340451\n",
      "8   30.424224  52.475643\n",
      "9   43.194502  29.122914\n",
      "10  61.185289  13.949386\n",
      "11  29.214465  36.636184\n",
      "12  45.606998  78.517596\n",
      "13  19.967378  51.423444\n",
      "14  59.241457   4.645041\n",
      "15  60.754485  17.052412\n",
      "16   6.505159  94.888554\n",
      "17  96.563203  80.839735\n",
      "18  30.461377   9.767211\n",
      "19  68.423303  44.015249\n"
     ]
    }
   ],
   "source": [
    "import numpy as np\n",
    "import pandas as pd\n",
    "\n",
    "np.random.seed(42)\n",
    "\n",
    "num_customers = 20\n",
    "\n",
    "all_coords = np.random.rand(num_customers, 2) * 100\n",
    "\n",
    "# depot_coords = np.array([[50, 50]])\n",
    "\n",
    "# all_coords = np.vstack([customer_coords])\n",
    "\n",
    "coords_df = pd.DataFrame(all_coords, columns=['x', 'y'])\n",
    "\n",
    "coords_df.to_csv('vrp_data.csv', index=False)\n",
    "\n",
    "print({\n",
    "        \"customers\": num_customers,\n",
    "        \"x\": coords_df['x'].tolist(),\n",
    "        \"y\": coords_df['y'].tolist()\n",
    "    }\n",
    ")\n",
    "# print(all_coords)\n",
    "print(coords_df)"
   ]
  },
  {
   "cell_type": "markdown",
   "metadata": {},
   "source": [
    "# encoding"
   ]
  },
  {
   "cell_type": "code",
   "execution_count": 2,
   "metadata": {},
   "outputs": [
    {
     "name": "stdout",
     "output_type": "stream",
     "text": [
      "[[37.45401188 95.07143064]\n",
      " [73.19939418 59.86584842]\n",
      " [15.60186404 15.59945203]\n",
      " [ 5.80836122 86.61761458]\n",
      " [60.11150117 70.80725778]\n",
      " [ 2.05844943 96.99098522]\n",
      " [83.24426408 21.23391107]\n",
      " [18.18249672 18.34045099]\n",
      " [30.4242243  52.47564316]\n",
      " [43.19450186 29.12291402]\n",
      " [61.18528947 13.94938607]\n",
      " [29.21446485 36.63618433]\n",
      " [45.60699842 78.51759614]\n",
      " [19.96737822 51.42344384]\n",
      " [59.24145689  4.64504127]\n",
      " [60.75448519 17.05241237]\n",
      " [ 6.5051593  94.88855373]\n",
      " [96.56320331 80.83973481]\n",
      " [30.46137692  9.7672114 ]\n",
      " [68.42330265 44.01524937]]\n"
     ]
    }
   ],
   "source": [
    "import numpy as np\n",
    "import pandas as pd\n",
    "\n",
    "coords_df = pd.read_csv('vrp_data.csv')\n",
    "\n",
    "all_coords = coords_df.values\n",
    "print(all_coords)\n",
    "# customer_indices = np.arange(0, len(all_coords))\n",
    "\n",
    "# customer_indices"
   ]
  },
  {
   "cell_type": "code",
   "execution_count": 3,
   "metadata": {},
   "outputs": [
    {
     "ename": "ValueError",
     "evalue": "All arguments should have the same length. The length of argument `color` is 21, whereas the length of  previously-processed arguments ['x', 'y'] is 20",
     "output_type": "error",
     "traceback": [
      "\u001b[1;31m---------------------------------------------------------------------------\u001b[0m",
      "\u001b[1;31mValueError\u001b[0m                                Traceback (most recent call last)",
      "Cell \u001b[1;32mIn[3], line 3\u001b[0m\n\u001b[0;32m      1\u001b[0m \u001b[38;5;28;01mimport\u001b[39;00m \u001b[38;5;21;01mplotly\u001b[39;00m\u001b[38;5;21;01m.\u001b[39;00m\u001b[38;5;21;01mexpress\u001b[39;00m \u001b[38;5;28;01mas\u001b[39;00m \u001b[38;5;21;01mpx\u001b[39;00m\n\u001b[1;32m----> 3\u001b[0m fig \u001b[38;5;241m=\u001b[39m \u001b[43mpx\u001b[49m\u001b[38;5;241;43m.\u001b[39;49m\u001b[43mscatter\u001b[49m\u001b[43m(\u001b[49m\u001b[43mcoords_df\u001b[49m\u001b[43m,\u001b[49m\u001b[43m \u001b[49m\u001b[43mx\u001b[49m\u001b[38;5;241;43m=\u001b[39;49m\u001b[38;5;124;43m'\u001b[39;49m\u001b[38;5;124;43mx\u001b[39;49m\u001b[38;5;124;43m'\u001b[39;49m\u001b[43m,\u001b[49m\u001b[43m \u001b[49m\u001b[43my\u001b[49m\u001b[38;5;241;43m=\u001b[39;49m\u001b[38;5;124;43m'\u001b[39;49m\u001b[38;5;124;43my\u001b[39;49m\u001b[38;5;124;43m'\u001b[39;49m\u001b[43m,\u001b[49m\u001b[43m \u001b[49m\u001b[43mcolor\u001b[49m\u001b[38;5;241;43m=\u001b[39;49m\u001b[43m[\u001b[49m\u001b[38;5;124;43m'\u001b[39;49m\u001b[38;5;124;43mDepot\u001b[39;49m\u001b[38;5;124;43m'\u001b[39;49m\u001b[43m]\u001b[49m\u001b[43m \u001b[49m\u001b[38;5;241;43m+\u001b[39;49m\u001b[43m \u001b[49m\u001b[43m[\u001b[49m\u001b[38;5;124;43m'\u001b[39;49m\u001b[38;5;124;43mCustomer\u001b[39;49m\u001b[38;5;124;43m'\u001b[39;49m\u001b[43m]\u001b[49m\u001b[38;5;241;43m*\u001b[39;49m\u001b[38;5;241;43m20\u001b[39;49m\u001b[43m,\u001b[49m\u001b[43m \u001b[49m\n\u001b[0;32m      4\u001b[0m \u001b[43m                 \u001b[49m\u001b[43mlabels\u001b[49m\u001b[38;5;241;43m=\u001b[39;49m\u001b[43m{\u001b[49m\u001b[38;5;124;43m'\u001b[39;49m\u001b[38;5;124;43mcolor\u001b[39;49m\u001b[38;5;124;43m'\u001b[39;49m\u001b[43m:\u001b[49m\u001b[43m \u001b[49m\u001b[38;5;124;43m'\u001b[39;49m\u001b[38;5;124;43mLocation Type\u001b[39;49m\u001b[38;5;124;43m'\u001b[39;49m\u001b[43m}\u001b[49m\u001b[43m,\u001b[49m\u001b[43m \u001b[49m\u001b[43mtitle\u001b[49m\u001b[38;5;241;43m=\u001b[39;49m\u001b[38;5;124;43m'\u001b[39;49m\u001b[38;5;124;43mCustomer and Depot Locations\u001b[39;49m\u001b[38;5;124;43m'\u001b[39;49m\u001b[43m)\u001b[49m\n\u001b[0;32m      6\u001b[0m fig\u001b[38;5;241m.\u001b[39mshow()\n",
      "File \u001b[1;32mc:\\Users\\tadrs\\AppData\\Local\\Programs\\Python\\Python311\\Lib\\site-packages\\plotly\\express\\_chart_types.py:66\u001b[0m, in \u001b[0;36mscatter\u001b[1;34m(data_frame, x, y, color, symbol, size, hover_name, hover_data, custom_data, text, facet_row, facet_col, facet_col_wrap, facet_row_spacing, facet_col_spacing, error_x, error_x_minus, error_y, error_y_minus, animation_frame, animation_group, category_orders, labels, orientation, color_discrete_sequence, color_discrete_map, color_continuous_scale, range_color, color_continuous_midpoint, symbol_sequence, symbol_map, opacity, size_max, marginal_x, marginal_y, trendline, trendline_options, trendline_color_override, trendline_scope, log_x, log_y, range_x, range_y, render_mode, title, template, width, height)\u001b[0m\n\u001b[0;32m     12\u001b[0m \u001b[38;5;28;01mdef\u001b[39;00m \u001b[38;5;21mscatter\u001b[39m(\n\u001b[0;32m     13\u001b[0m     data_frame\u001b[38;5;241m=\u001b[39m\u001b[38;5;28;01mNone\u001b[39;00m,\n\u001b[0;32m     14\u001b[0m     x\u001b[38;5;241m=\u001b[39m\u001b[38;5;28;01mNone\u001b[39;00m,\n\u001b[1;32m   (...)\u001b[0m\n\u001b[0;32m     60\u001b[0m     height\u001b[38;5;241m=\u001b[39m\u001b[38;5;28;01mNone\u001b[39;00m,\n\u001b[0;32m     61\u001b[0m ) \u001b[38;5;241m-\u001b[39m\u001b[38;5;241m>\u001b[39m go\u001b[38;5;241m.\u001b[39mFigure:\n\u001b[0;32m     62\u001b[0m \u001b[38;5;250m    \u001b[39m\u001b[38;5;124;03m\"\"\"\u001b[39;00m\n\u001b[0;32m     63\u001b[0m \u001b[38;5;124;03m    In a scatter plot, each row of `data_frame` is represented by a symbol\u001b[39;00m\n\u001b[0;32m     64\u001b[0m \u001b[38;5;124;03m    mark in 2D space.\u001b[39;00m\n\u001b[0;32m     65\u001b[0m \u001b[38;5;124;03m    \"\"\"\u001b[39;00m\n\u001b[1;32m---> 66\u001b[0m     \u001b[38;5;28;01mreturn\u001b[39;00m \u001b[43mmake_figure\u001b[49m\u001b[43m(\u001b[49m\u001b[43margs\u001b[49m\u001b[38;5;241;43m=\u001b[39;49m\u001b[38;5;28;43mlocals\u001b[39;49m\u001b[43m(\u001b[49m\u001b[43m)\u001b[49m\u001b[43m,\u001b[49m\u001b[43m \u001b[49m\u001b[43mconstructor\u001b[49m\u001b[38;5;241;43m=\u001b[39;49m\u001b[43mgo\u001b[49m\u001b[38;5;241;43m.\u001b[39;49m\u001b[43mScatter\u001b[49m\u001b[43m)\u001b[49m\n",
      "File \u001b[1;32mc:\\Users\\tadrs\\AppData\\Local\\Programs\\Python\\Python311\\Lib\\site-packages\\plotly\\express\\_core.py:2117\u001b[0m, in \u001b[0;36mmake_figure\u001b[1;34m(args, constructor, trace_patch, layout_patch)\u001b[0m\n\u001b[0;32m   2114\u001b[0m layout_patch \u001b[38;5;241m=\u001b[39m layout_patch \u001b[38;5;129;01mor\u001b[39;00m {}\n\u001b[0;32m   2115\u001b[0m apply_default_cascade(args)\n\u001b[1;32m-> 2117\u001b[0m args \u001b[38;5;241m=\u001b[39m \u001b[43mbuild_dataframe\u001b[49m\u001b[43m(\u001b[49m\u001b[43margs\u001b[49m\u001b[43m,\u001b[49m\u001b[43m \u001b[49m\u001b[43mconstructor\u001b[49m\u001b[43m)\u001b[49m\n\u001b[0;32m   2118\u001b[0m \u001b[38;5;28;01mif\u001b[39;00m constructor \u001b[38;5;129;01min\u001b[39;00m [go\u001b[38;5;241m.\u001b[39mTreemap, go\u001b[38;5;241m.\u001b[39mSunburst, go\u001b[38;5;241m.\u001b[39mIcicle] \u001b[38;5;129;01mand\u001b[39;00m args[\u001b[38;5;124m\"\u001b[39m\u001b[38;5;124mpath\u001b[39m\u001b[38;5;124m\"\u001b[39m] \u001b[38;5;129;01mis\u001b[39;00m \u001b[38;5;129;01mnot\u001b[39;00m \u001b[38;5;28;01mNone\u001b[39;00m:\n\u001b[0;32m   2119\u001b[0m     args \u001b[38;5;241m=\u001b[39m process_dataframe_hierarchy(args)\n",
      "File \u001b[1;32mc:\\Users\\tadrs\\AppData\\Local\\Programs\\Python\\Python311\\Lib\\site-packages\\plotly\\express\\_core.py:1513\u001b[0m, in \u001b[0;36mbuild_dataframe\u001b[1;34m(args, constructor)\u001b[0m\n\u001b[0;32m   1510\u001b[0m     args[\u001b[38;5;124m\"\u001b[39m\u001b[38;5;124mcolor\u001b[39m\u001b[38;5;124m\"\u001b[39m] \u001b[38;5;241m=\u001b[39m \u001b[38;5;28;01mNone\u001b[39;00m\n\u001b[0;32m   1511\u001b[0m \u001b[38;5;66;03m# now that things have been prepped, we do the systematic rewriting of `args`\u001b[39;00m\n\u001b[1;32m-> 1513\u001b[0m df_output, wide_id_vars \u001b[38;5;241m=\u001b[39m \u001b[43mprocess_args_into_dataframe\u001b[49m\u001b[43m(\u001b[49m\n\u001b[0;32m   1514\u001b[0m \u001b[43m    \u001b[49m\u001b[43margs\u001b[49m\u001b[43m,\u001b[49m\u001b[43m \u001b[49m\u001b[43mwide_mode\u001b[49m\u001b[43m,\u001b[49m\u001b[43m \u001b[49m\u001b[43mvar_name\u001b[49m\u001b[43m,\u001b[49m\u001b[43m \u001b[49m\u001b[43mvalue_name\u001b[49m\n\u001b[0;32m   1515\u001b[0m \u001b[43m\u001b[49m\u001b[43m)\u001b[49m\n\u001b[0;32m   1517\u001b[0m \u001b[38;5;66;03m# now that `df_output` exists and `args` contains only references, we complete\u001b[39;00m\n\u001b[0;32m   1518\u001b[0m \u001b[38;5;66;03m# the special-case and wide-mode handling by further rewriting args and/or mutating\u001b[39;00m\n\u001b[0;32m   1519\u001b[0m \u001b[38;5;66;03m# df_output\u001b[39;00m\n\u001b[0;32m   1521\u001b[0m count_name \u001b[38;5;241m=\u001b[39m _escape_col_name(df_output, \u001b[38;5;124m\"\u001b[39m\u001b[38;5;124mcount\u001b[39m\u001b[38;5;124m\"\u001b[39m, [var_name, value_name])\n",
      "File \u001b[1;32mc:\\Users\\tadrs\\AppData\\Local\\Programs\\Python\\Python311\\Lib\\site-packages\\plotly\\express\\_core.py:1274\u001b[0m, in \u001b[0;36mprocess_args_into_dataframe\u001b[1;34m(args, wide_mode, var_name, value_name)\u001b[0m\n\u001b[0;32m   1271\u001b[0m         col_name \u001b[38;5;241m=\u001b[39m _check_name_not_reserved(field, reserved_names)\n\u001b[0;32m   1273\u001b[0m     \u001b[38;5;28;01mif\u001b[39;00m length \u001b[38;5;129;01mand\u001b[39;00m \u001b[38;5;28mlen\u001b[39m(argument) \u001b[38;5;241m!=\u001b[39m length:\n\u001b[1;32m-> 1274\u001b[0m         \u001b[38;5;28;01mraise\u001b[39;00m \u001b[38;5;167;01mValueError\u001b[39;00m(\n\u001b[0;32m   1275\u001b[0m             \u001b[38;5;124m\"\u001b[39m\u001b[38;5;124mAll arguments should have the same length. \u001b[39m\u001b[38;5;124m\"\u001b[39m\n\u001b[0;32m   1276\u001b[0m             \u001b[38;5;124m\"\u001b[39m\u001b[38;5;124mThe length of argument `\u001b[39m\u001b[38;5;132;01m%s\u001b[39;00m\u001b[38;5;124m` is \u001b[39m\u001b[38;5;132;01m%d\u001b[39;00m\u001b[38;5;124m, whereas the \u001b[39m\u001b[38;5;124m\"\u001b[39m\n\u001b[0;32m   1277\u001b[0m             \u001b[38;5;124m\"\u001b[39m\u001b[38;5;124mlength of  previously-processed arguments \u001b[39m\u001b[38;5;132;01m%s\u001b[39;00m\u001b[38;5;124m is \u001b[39m\u001b[38;5;132;01m%d\u001b[39;00m\u001b[38;5;124m\"\u001b[39m\n\u001b[0;32m   1278\u001b[0m             \u001b[38;5;241m%\u001b[39m (field, \u001b[38;5;28mlen\u001b[39m(argument), \u001b[38;5;28mstr\u001b[39m(\u001b[38;5;28mlist\u001b[39m(df_output\u001b[38;5;241m.\u001b[39mkeys())), length)\n\u001b[0;32m   1279\u001b[0m         )\n\u001b[0;32m   1280\u001b[0m     df_output[\u001b[38;5;28mstr\u001b[39m(col_name)] \u001b[38;5;241m=\u001b[39m to_unindexed_series(argument, \u001b[38;5;28mstr\u001b[39m(col_name))\n\u001b[0;32m   1282\u001b[0m \u001b[38;5;66;03m# Finally, update argument with column name now that column exists\u001b[39;00m\n",
      "\u001b[1;31mValueError\u001b[0m: All arguments should have the same length. The length of argument `color` is 21, whereas the length of  previously-processed arguments ['x', 'y'] is 20"
     ]
    }
   ],
   "source": [
    "import plotly.express as px\n",
    "\n",
    "fig = px.scatter(coords_df, x='x', y='y', color=['Depot'] + ['Customer']*20, \n",
    "                 labels={'color': 'Location Type'}, title='Customer and Depot Locations')\n",
    "\n",
    "fig.show()\n"
   ]
  },
  {
   "cell_type": "markdown",
   "metadata": {},
   "source": [
    "# population intilaztion"
   ]
  },
  {
   "cell_type": "code",
   "execution_count": null,
   "metadata": {},
   "outputs": [],
   "source": [
    "def initialize_population(pop_size, num_customers):\n",
    "    customer_indices = np.arange(1, num_customers + 1)  # Exclude depot\n",
    "    population = []\n",
    "    for _ in range(pop_size):\n",
    "        route = np.random.permutation(customer_indices)  # Random customer order\n",
    "        route = np.concatenate(([0], route, [0]))       # Add depot at start and end\n",
    "        population.append(route)\n",
    "\n",
    "    return np.array(population)\n"
   ]
  },
  {
   "cell_type": "markdown",
   "metadata": {},
   "source": [
    "# huristic function"
   ]
  },
  {
   "cell_type": "code",
   "execution_count": null,
   "metadata": {},
   "outputs": [],
   "source": [
    "def calculate_distance(route, coords):\n",
    "    total_distance = 0\n",
    "    for i in range(len(route) - 1):\n",
    "        total_distance += np.linalg.norm(coords[route[i]] - coords[route[i + 1]])\n",
    "    return total_distance\n"
   ]
  },
  {
   "cell_type": "markdown",
   "metadata": {},
   "source": [
    "# selection function"
   ]
  },
  {
   "cell_type": "code",
   "execution_count": null,
   "metadata": {},
   "outputs": [],
   "source": [
    "import random\n",
    "\n",
    "def selection(population, fitness_scores, num_parents):\n",
    "    sorted_indices = np.argsort(fitness_scores)\n",
    "    ranked_population = [population[i] for i in sorted_indices]\n",
    "    selected_parents = ranked_population[:num_parents]\n",
    "    return selected_parents"
   ]
  },
  {
   "cell_type": "markdown",
   "metadata": {},
   "source": [
    "# crossover function"
   ]
  },
  {
   "cell_type": "code",
   "execution_count": null,
   "metadata": {},
   "outputs": [],
   "source": [
    "def crossover(parent1, parent2):\n",
    "    size = len(parent1) - 2  \n",
    "\n",
    "    point = np.random.randint(1, size)  \n",
    "\n",
    "    child = [-1] * len(parent1) \n",
    "    child[0], child[-1] = 0, 0  \n",
    "    child[1:point + 1] = parent1[1:point + 1]  \n",
    "    pointer = point + 1\n",
    "    \n",
    "    for gene in parent2:\n",
    "        if gene not in child:\n",
    "            child[pointer] = gene\n",
    "            pointer += 1\n",
    "    return np.array(child)\n"
   ]
  },
  {
   "cell_type": "code",
   "execution_count": null,
   "metadata": {},
   "outputs": [],
   "source": [
    "def mutate(route, mutation_rate):\n",
    "    if np.random.rand() < mutation_rate:\n",
    "        idx1, idx2 = np.random.choice(range(1, len(route) - 1), 2, replace=False)\n",
    "        route[idx1], route[idx2] = route[idx2], route[idx1]\n",
    "    return route\n"
   ]
  },
  {
   "cell_type": "markdown",
   "metadata": {},
   "source": [
    "<h1>evlolve</h1>\n",
    "<p>\n",
    "    <!-- <img src=\"spinning-cat.gif\" alt=\"Spinning Cat\"> -->\n",
    "</p>\n",
    "\n",
    "<style>\n",
    "    h1 {\n",
    "        color: red;\n",
    "    }\n",
    "    p {\n",
    "        position: relative;\n",
    "        /* animation: moveRightLeft 2s infinite ease-in-out; */\n",
    "    }\n",
    "    img\n",
    "    {\n",
    "        width :100px;\n",
    "        height :100px;\n",
    "    }\n",
    "\n",
    "    @keyframes moveRightLeft {\n",
    "        0% {\n",
    "            left: 0;\n",
    "        }\n",
    "        50% {\n",
    "            left: 100px;\n",
    "        }\n",
    "        100% {\n",
    "            left: 0;\n",
    "        }\n",
    "    }\n",
    "</style>"
   ]
  },
  {
   "cell_type": "code",
   "execution_count": null,
   "metadata": {},
   "outputs": [],
   "source": [
    "def validate_and_repair(route, num_customers):\n",
    "    all_customers = set(range(1, num_customers + 1))\n",
    "    visited = set(route[1:-1])  # Exclude depot\n",
    "    missing_customers = list(all_customers - visited)\n",
    "    duplicates = [c for c in route[1:-1] if route[1:-1].tolist().count(c) > 1]\n",
    "\n",
    "    for i in range(1, len(route) - 1):\n",
    "        if route[i] in duplicates:\n",
    "            route[i] = missing_customers.pop()\n",
    "            duplicates.remove(route[i])\n",
    "    return route\n"
   ]
  },
  {
   "cell_type": "code",
   "execution_count": null,
   "metadata": {},
   "outputs": [],
   "source": [
    "def evolve_population(population, coords, num_customers, mutation_rate, retain_rate):\n",
    "    fitness_scores = [1 / calculate_distance(route, coords) for route in population]\n",
    "\n",
    "    sorted_indices = np.argsort(fitness_scores)[::-1]\n",
    "    retain_length = int(len(population) * retain_rate)\n",
    "    parents = [population[i] for i in sorted_indices[:retain_length]]\n",
    "\n",
    "    children = []\n",
    "    while len(children) < len(population) - len(parents):\n",
    "\n",
    "        p1, p2 = parents[0], parents[1]  # Just use the first two parents\n",
    "\n",
    "        child = crossover(p1, p2)\n",
    "        children.append(child)\n",
    "\n",
    "\n",
    "    next_gen = parents + children\n",
    "    next_gen = [validate_and_repair(mutate(route, mutation_rate), num_customers) for route in next_gen]\n",
    "\n",
    "    return np.array(next_gen)\n"
   ]
  },
  {
   "cell_type": "markdown",
   "metadata": {},
   "source": [
    "# trying the alogrithm "
   ]
  },
  {
   "cell_type": "code",
   "execution_count": null,
   "metadata": {},
   "outputs": [],
   "source": [
    "import numpy as np\n",
    "\n",
    "def run_ga(coords, num_customers, population_size=100, generations=1000, mutation_rate=0.02, retain_rate=0.2):\n",
    "    \n",
    "    population = initialize_population(population_size, num_customers)\n",
    "\n",
    "    best_route = None\n",
    "    best_distance = float('inf')\n",
    "    best_distance_arr = []\n",
    "    gen_of_best_distance = []\n",
    "\n",
    "    for gen in range(generations):\n",
    "        population = evolve_population(population, coords, num_customers, mutation_rate, retain_rate)\n",
    "\n",
    "        distances = [calculate_distance(route, coords) for route in population]\n",
    "        min_distance_idx = np.argmin(distances)\n",
    "        min_distance = distances[min_distance_idx]\n",
    "\n",
    "        # Update best solution if found\n",
    "        if min_distance < best_distance:\n",
    "            best_distance = min_distance\n",
    "            best_route = population[min_distance_idx]\n",
    "            print(f\"Generation {gen + 1}/{generations}: Best Distance = {best_distance:.2f}\")\n",
    "            best_distance_arr.append(float(best_distance))\n",
    "            gen_of_best_distance.append(gen + 1)\n",
    "\n",
    "        # if gen % 50 == 0 or gen == generations - 1:\n",
    "        #     print(f\"Generation {gen + 1}/{generations}: Best Distance = {best_distance:.2f}\")\n",
    "\n",
    "    return {\n",
    "        \"best route\": best_route.tolist(),\n",
    "        \"best distance\": float(best_distance),\n",
    "        \"best distance array\": best_distance_arr,\n",
    "        \"generations of best distance\": gen_of_best_distance\n",
    "    }\n",
    "\n"
   ]
  },
  {
   "cell_type": "code",
   "execution_count": null,
   "metadata": {},
   "outputs": [
    {
     "name": "stdout",
     "output_type": "stream",
     "text": [
      "Generation 1/1000: Best Distance = 838.06\n",
      "Generation 4/1000: Best Distance = 823.06\n",
      "Generation 9/1000: Best Distance = 820.90\n",
      "Generation 10/1000: Best Distance = 740.46\n",
      "Generation 16/1000: Best Distance = 735.78\n",
      "Generation 18/1000: Best Distance = 734.82\n",
      "Generation 30/1000: Best Distance = 659.57\n",
      "Generation 31/1000: Best Distance = 631.79\n",
      "Generation 34/1000: Best Distance = 592.07\n",
      "Generation 44/1000: Best Distance = 585.99\n",
      "Generation 47/1000: Best Distance = 585.57\n",
      "Generation 67/1000: Best Distance = 582.33\n",
      "Generation 68/1000: Best Distance = 580.70\n",
      "Generation 162/1000: Best Distance = 580.49\n",
      "Generation 178/1000: Best Distance = 568.20\n",
      "Generation 213/1000: Best Distance = 559.16\n",
      "Generation 219/1000: Best Distance = 555.13\n",
      "Generation 228/1000: Best Distance = 553.50\n",
      "Generation 236/1000: Best Distance = 535.37\n",
      "Generation 237/1000: Best Distance = 480.11\n",
      "Generation 279/1000: Best Distance = 478.34\n",
      "{'best route': [0, 4, 6, 17, 1, 13, 5, 18, 2, 20, 7, 19, 3, 8, 12, 14, 9, 10, 15, 11, 16, 0], 'best distance': 478.34362024993175, 'best distance array': [838.0562415604684, 823.0647601342041, 820.8975193036864, 740.4612397988312, 735.7838415294851, 734.8193640364201, 659.5745977144079, 631.7879232970513, 592.0724667824685, 585.9908166475584, 585.5711730141115, 582.332694531347, 580.6954563982094, 580.4943034688483, 568.2021045688784, 559.1593964906499, 555.1310921151633, 553.50019190493, 535.3681898643908, 480.11168881471724, 478.34362024993175], 'generations of best distance': [1, 4, 9, 10, 16, 18, 30, 31, 34, 44, 47, 67, 68, 162, 178, 213, 219, 228, 236, 237, 279]}\n"
     ]
    }
   ],
   "source": [
    "# coords = coords_df[['x', 'y']].to_numpy()\n",
    "# print(coords)\n",
    "num_customers = len(all_coords) - 1\n",
    "\n",
    "output = run_ga(all_coords, num_customers)\n",
    "print(output)\n",
    "# print(gen_of_best_distance)\n",
    "# print(\"maybe a best route:\", best_route)\n",
    "# print(\"a maybe with a qeustion mark best distance  :\", best_distance)\n"
   ]
  },
  {
   "cell_type": "markdown",
   "metadata": {},
   "source": [
    "<p>\n",
    "    <img src=\"spinning-cat.gif\" alt=\"Spinning Cat\"> \n",
    "</p>\n",
    "<h1>Loading...</h1>\n",
    "\n",
    "<style>\n",
    "    h1 {\n",
    "        color: red;\n",
    "        position: relative;\n",
    "        animation: moveRightLeft 2s infinite ease-in-out; \n",
    "    }\n",
    "    p {\n",
    "\n",
    "    }\n",
    "    img {\n",
    "        width: 100px;\n",
    "        height: 100px;\n",
    "    }\n",
    "\n",
    "    @keyframes moveRightLeft {\n",
    "        0% {\n",
    "            left: 0;\n",
    "        }\n",
    "        50% {\n",
    "            left: 100px;\n",
    "        }\n",
    "        100% {\n",
    "            left: 0;\n",
    "        }\n",
    "    }\n",
    "</style>"
   ]
  },
  {
   "cell_type": "code",
   "execution_count": null,
   "metadata": {},
   "outputs": [
    {
     "data": {
      "application/vnd.plotly.v1+json": {
       "config": {
        "plotlyServerURL": "https://plot.ly"
       },
       "data": [
        {
         "hovertemplate": "Generation=%{x}<br>Best Distance=%{y}<extra></extra>",
         "legendgroup": "",
         "line": {
          "color": "#636efa",
          "dash": "solid"
         },
         "marker": {
          "symbol": "circle"
         },
         "mode": "lines",
         "name": "",
         "orientation": "v",
         "showlegend": false,
         "type": "scatter",
         "x": [
          0,
          50,
          100,
          150,
          200,
          250,
          300,
          350,
          400,
          450,
          500,
          550,
          600,
          650,
          700,
          750,
          800,
          850,
          900,
          950,
          1000
         ],
         "xaxis": "x",
         "y": [
          838.0562415604684,
          585.5711730141115,
          580.6954563982094,
          580.6954563982094,
          568.2021045688784,
          480.11168881471724,
          478.34362024993175,
          478.34362024993175,
          478.34362024993175,
          478.34362024993175,
          478.34362024993175,
          478.34362024993175,
          478.34362024993175,
          478.34362024993175,
          478.34362024993175,
          478.34362024993175,
          478.34362024993175,
          478.34362024993175,
          478.34362024993175,
          478.34362024993175,
          478.34362024993175
         ],
         "yaxis": "y"
        }
       ],
       "layout": {
        "legend": {
         "tracegroupgap": 0
        },
        "template": {
         "data": {
          "bar": [
           {
            "error_x": {
             "color": "#2a3f5f"
            },
            "error_y": {
             "color": "#2a3f5f"
            },
            "marker": {
             "line": {
              "color": "#E5ECF6",
              "width": 0.5
             },
             "pattern": {
              "fillmode": "overlay",
              "size": 10,
              "solidity": 0.2
             }
            },
            "type": "bar"
           }
          ],
          "barpolar": [
           {
            "marker": {
             "line": {
              "color": "#E5ECF6",
              "width": 0.5
             },
             "pattern": {
              "fillmode": "overlay",
              "size": 10,
              "solidity": 0.2
             }
            },
            "type": "barpolar"
           }
          ],
          "carpet": [
           {
            "aaxis": {
             "endlinecolor": "#2a3f5f",
             "gridcolor": "white",
             "linecolor": "white",
             "minorgridcolor": "white",
             "startlinecolor": "#2a3f5f"
            },
            "baxis": {
             "endlinecolor": "#2a3f5f",
             "gridcolor": "white",
             "linecolor": "white",
             "minorgridcolor": "white",
             "startlinecolor": "#2a3f5f"
            },
            "type": "carpet"
           }
          ],
          "choropleth": [
           {
            "colorbar": {
             "outlinewidth": 0,
             "ticks": ""
            },
            "type": "choropleth"
           }
          ],
          "contour": [
           {
            "colorbar": {
             "outlinewidth": 0,
             "ticks": ""
            },
            "colorscale": [
             [
              0,
              "#0d0887"
             ],
             [
              0.1111111111111111,
              "#46039f"
             ],
             [
              0.2222222222222222,
              "#7201a8"
             ],
             [
              0.3333333333333333,
              "#9c179e"
             ],
             [
              0.4444444444444444,
              "#bd3786"
             ],
             [
              0.5555555555555556,
              "#d8576b"
             ],
             [
              0.6666666666666666,
              "#ed7953"
             ],
             [
              0.7777777777777778,
              "#fb9f3a"
             ],
             [
              0.8888888888888888,
              "#fdca26"
             ],
             [
              1,
              "#f0f921"
             ]
            ],
            "type": "contour"
           }
          ],
          "contourcarpet": [
           {
            "colorbar": {
             "outlinewidth": 0,
             "ticks": ""
            },
            "type": "contourcarpet"
           }
          ],
          "heatmap": [
           {
            "colorbar": {
             "outlinewidth": 0,
             "ticks": ""
            },
            "colorscale": [
             [
              0,
              "#0d0887"
             ],
             [
              0.1111111111111111,
              "#46039f"
             ],
             [
              0.2222222222222222,
              "#7201a8"
             ],
             [
              0.3333333333333333,
              "#9c179e"
             ],
             [
              0.4444444444444444,
              "#bd3786"
             ],
             [
              0.5555555555555556,
              "#d8576b"
             ],
             [
              0.6666666666666666,
              "#ed7953"
             ],
             [
              0.7777777777777778,
              "#fb9f3a"
             ],
             [
              0.8888888888888888,
              "#fdca26"
             ],
             [
              1,
              "#f0f921"
             ]
            ],
            "type": "heatmap"
           }
          ],
          "heatmapgl": [
           {
            "colorbar": {
             "outlinewidth": 0,
             "ticks": ""
            },
            "colorscale": [
             [
              0,
              "#0d0887"
             ],
             [
              0.1111111111111111,
              "#46039f"
             ],
             [
              0.2222222222222222,
              "#7201a8"
             ],
             [
              0.3333333333333333,
              "#9c179e"
             ],
             [
              0.4444444444444444,
              "#bd3786"
             ],
             [
              0.5555555555555556,
              "#d8576b"
             ],
             [
              0.6666666666666666,
              "#ed7953"
             ],
             [
              0.7777777777777778,
              "#fb9f3a"
             ],
             [
              0.8888888888888888,
              "#fdca26"
             ],
             [
              1,
              "#f0f921"
             ]
            ],
            "type": "heatmapgl"
           }
          ],
          "histogram": [
           {
            "marker": {
             "pattern": {
              "fillmode": "overlay",
              "size": 10,
              "solidity": 0.2
             }
            },
            "type": "histogram"
           }
          ],
          "histogram2d": [
           {
            "colorbar": {
             "outlinewidth": 0,
             "ticks": ""
            },
            "colorscale": [
             [
              0,
              "#0d0887"
             ],
             [
              0.1111111111111111,
              "#46039f"
             ],
             [
              0.2222222222222222,
              "#7201a8"
             ],
             [
              0.3333333333333333,
              "#9c179e"
             ],
             [
              0.4444444444444444,
              "#bd3786"
             ],
             [
              0.5555555555555556,
              "#d8576b"
             ],
             [
              0.6666666666666666,
              "#ed7953"
             ],
             [
              0.7777777777777778,
              "#fb9f3a"
             ],
             [
              0.8888888888888888,
              "#fdca26"
             ],
             [
              1,
              "#f0f921"
             ]
            ],
            "type": "histogram2d"
           }
          ],
          "histogram2dcontour": [
           {
            "colorbar": {
             "outlinewidth": 0,
             "ticks": ""
            },
            "colorscale": [
             [
              0,
              "#0d0887"
             ],
             [
              0.1111111111111111,
              "#46039f"
             ],
             [
              0.2222222222222222,
              "#7201a8"
             ],
             [
              0.3333333333333333,
              "#9c179e"
             ],
             [
              0.4444444444444444,
              "#bd3786"
             ],
             [
              0.5555555555555556,
              "#d8576b"
             ],
             [
              0.6666666666666666,
              "#ed7953"
             ],
             [
              0.7777777777777778,
              "#fb9f3a"
             ],
             [
              0.8888888888888888,
              "#fdca26"
             ],
             [
              1,
              "#f0f921"
             ]
            ],
            "type": "histogram2dcontour"
           }
          ],
          "mesh3d": [
           {
            "colorbar": {
             "outlinewidth": 0,
             "ticks": ""
            },
            "type": "mesh3d"
           }
          ],
          "parcoords": [
           {
            "line": {
             "colorbar": {
              "outlinewidth": 0,
              "ticks": ""
             }
            },
            "type": "parcoords"
           }
          ],
          "pie": [
           {
            "automargin": true,
            "type": "pie"
           }
          ],
          "scatter": [
           {
            "fillpattern": {
             "fillmode": "overlay",
             "size": 10,
             "solidity": 0.2
            },
            "type": "scatter"
           }
          ],
          "scatter3d": [
           {
            "line": {
             "colorbar": {
              "outlinewidth": 0,
              "ticks": ""
             }
            },
            "marker": {
             "colorbar": {
              "outlinewidth": 0,
              "ticks": ""
             }
            },
            "type": "scatter3d"
           }
          ],
          "scattercarpet": [
           {
            "marker": {
             "colorbar": {
              "outlinewidth": 0,
              "ticks": ""
             }
            },
            "type": "scattercarpet"
           }
          ],
          "scattergeo": [
           {
            "marker": {
             "colorbar": {
              "outlinewidth": 0,
              "ticks": ""
             }
            },
            "type": "scattergeo"
           }
          ],
          "scattergl": [
           {
            "marker": {
             "colorbar": {
              "outlinewidth": 0,
              "ticks": ""
             }
            },
            "type": "scattergl"
           }
          ],
          "scattermapbox": [
           {
            "marker": {
             "colorbar": {
              "outlinewidth": 0,
              "ticks": ""
             }
            },
            "type": "scattermapbox"
           }
          ],
          "scatterpolar": [
           {
            "marker": {
             "colorbar": {
              "outlinewidth": 0,
              "ticks": ""
             }
            },
            "type": "scatterpolar"
           }
          ],
          "scatterpolargl": [
           {
            "marker": {
             "colorbar": {
              "outlinewidth": 0,
              "ticks": ""
             }
            },
            "type": "scatterpolargl"
           }
          ],
          "scatterternary": [
           {
            "marker": {
             "colorbar": {
              "outlinewidth": 0,
              "ticks": ""
             }
            },
            "type": "scatterternary"
           }
          ],
          "surface": [
           {
            "colorbar": {
             "outlinewidth": 0,
             "ticks": ""
            },
            "colorscale": [
             [
              0,
              "#0d0887"
             ],
             [
              0.1111111111111111,
              "#46039f"
             ],
             [
              0.2222222222222222,
              "#7201a8"
             ],
             [
              0.3333333333333333,
              "#9c179e"
             ],
             [
              0.4444444444444444,
              "#bd3786"
             ],
             [
              0.5555555555555556,
              "#d8576b"
             ],
             [
              0.6666666666666666,
              "#ed7953"
             ],
             [
              0.7777777777777778,
              "#fb9f3a"
             ],
             [
              0.8888888888888888,
              "#fdca26"
             ],
             [
              1,
              "#f0f921"
             ]
            ],
            "type": "surface"
           }
          ],
          "table": [
           {
            "cells": {
             "fill": {
              "color": "#EBF0F8"
             },
             "line": {
              "color": "white"
             }
            },
            "header": {
             "fill": {
              "color": "#C8D4E3"
             },
             "line": {
              "color": "white"
             }
            },
            "type": "table"
           }
          ]
         },
         "layout": {
          "annotationdefaults": {
           "arrowcolor": "#2a3f5f",
           "arrowhead": 0,
           "arrowwidth": 1
          },
          "autotypenumbers": "strict",
          "coloraxis": {
           "colorbar": {
            "outlinewidth": 0,
            "ticks": ""
           }
          },
          "colorscale": {
           "diverging": [
            [
             0,
             "#8e0152"
            ],
            [
             0.1,
             "#c51b7d"
            ],
            [
             0.2,
             "#de77ae"
            ],
            [
             0.3,
             "#f1b6da"
            ],
            [
             0.4,
             "#fde0ef"
            ],
            [
             0.5,
             "#f7f7f7"
            ],
            [
             0.6,
             "#e6f5d0"
            ],
            [
             0.7,
             "#b8e186"
            ],
            [
             0.8,
             "#7fbc41"
            ],
            [
             0.9,
             "#4d9221"
            ],
            [
             1,
             "#276419"
            ]
           ],
           "sequential": [
            [
             0,
             "#0d0887"
            ],
            [
             0.1111111111111111,
             "#46039f"
            ],
            [
             0.2222222222222222,
             "#7201a8"
            ],
            [
             0.3333333333333333,
             "#9c179e"
            ],
            [
             0.4444444444444444,
             "#bd3786"
            ],
            [
             0.5555555555555556,
             "#d8576b"
            ],
            [
             0.6666666666666666,
             "#ed7953"
            ],
            [
             0.7777777777777778,
             "#fb9f3a"
            ],
            [
             0.8888888888888888,
             "#fdca26"
            ],
            [
             1,
             "#f0f921"
            ]
           ],
           "sequentialminus": [
            [
             0,
             "#0d0887"
            ],
            [
             0.1111111111111111,
             "#46039f"
            ],
            [
             0.2222222222222222,
             "#7201a8"
            ],
            [
             0.3333333333333333,
             "#9c179e"
            ],
            [
             0.4444444444444444,
             "#bd3786"
            ],
            [
             0.5555555555555556,
             "#d8576b"
            ],
            [
             0.6666666666666666,
             "#ed7953"
            ],
            [
             0.7777777777777778,
             "#fb9f3a"
            ],
            [
             0.8888888888888888,
             "#fdca26"
            ],
            [
             1,
             "#f0f921"
            ]
           ]
          },
          "colorway": [
           "#636efa",
           "#EF553B",
           "#00cc96",
           "#ab63fa",
           "#FFA15A",
           "#19d3f3",
           "#FF6692",
           "#B6E880",
           "#FF97FF",
           "#FECB52"
          ],
          "font": {
           "color": "#2a3f5f"
          },
          "geo": {
           "bgcolor": "white",
           "lakecolor": "white",
           "landcolor": "#E5ECF6",
           "showlakes": true,
           "showland": true,
           "subunitcolor": "white"
          },
          "hoverlabel": {
           "align": "left"
          },
          "hovermode": "closest",
          "mapbox": {
           "style": "light"
          },
          "paper_bgcolor": "white",
          "plot_bgcolor": "#E5ECF6",
          "polar": {
           "angularaxis": {
            "gridcolor": "white",
            "linecolor": "white",
            "ticks": ""
           },
           "bgcolor": "#E5ECF6",
           "radialaxis": {
            "gridcolor": "white",
            "linecolor": "white",
            "ticks": ""
           }
          },
          "scene": {
           "xaxis": {
            "backgroundcolor": "#E5ECF6",
            "gridcolor": "white",
            "gridwidth": 2,
            "linecolor": "white",
            "showbackground": true,
            "ticks": "",
            "zerolinecolor": "white"
           },
           "yaxis": {
            "backgroundcolor": "#E5ECF6",
            "gridcolor": "white",
            "gridwidth": 2,
            "linecolor": "white",
            "showbackground": true,
            "ticks": "",
            "zerolinecolor": "white"
           },
           "zaxis": {
            "backgroundcolor": "#E5ECF6",
            "gridcolor": "white",
            "gridwidth": 2,
            "linecolor": "white",
            "showbackground": true,
            "ticks": "",
            "zerolinecolor": "white"
           }
          },
          "shapedefaults": {
           "line": {
            "color": "#2a3f5f"
           }
          },
          "ternary": {
           "aaxis": {
            "gridcolor": "white",
            "linecolor": "white",
            "ticks": ""
           },
           "baxis": {
            "gridcolor": "white",
            "linecolor": "white",
            "ticks": ""
           },
           "bgcolor": "#E5ECF6",
           "caxis": {
            "gridcolor": "white",
            "linecolor": "white",
            "ticks": ""
           }
          },
          "title": {
           "x": 0.05
          },
          "xaxis": {
           "automargin": true,
           "gridcolor": "white",
           "linecolor": "white",
           "ticks": "",
           "title": {
            "standoff": 15
           },
           "zerolinecolor": "white",
           "zerolinewidth": 2
          },
          "yaxis": {
           "automargin": true,
           "gridcolor": "white",
           "linecolor": "white",
           "ticks": "",
           "title": {
            "standoff": 15
           },
           "zerolinecolor": "white",
           "zerolinewidth": 2
          }
         }
        },
        "title": {
         "text": "Best Distance Over Generations"
        },
        "xaxis": {
         "anchor": "y",
         "domain": [
          0,
          1
         ],
         "title": {
          "text": "Generation"
         }
        },
        "yaxis": {
         "anchor": "x",
         "domain": [
          0,
          1
         ],
         "title": {
          "text": "Best Distance"
         }
        }
       }
      }
     },
     "metadata": {},
     "output_type": "display_data"
    }
   ],
   "source": [
    "import plotly.express as px\n",
    "\n",
    "loss_df = pd.DataFrame({'Generation': np.arange(0, len(best_distance_arr) * 50, 50), 'Best Distance': best_distance_arr})\n",
    "\n",
    "plot = px.line(loss_df, x='Generation', y='Best Distance', title='Best Distance Over Generations')\n",
    "plot.show()\n"
   ]
  },
  {
   "cell_type": "code",
   "execution_count": null,
   "metadata": {},
   "outputs": [],
   "source": [
    "import plotly.graph_objects as go\n",
    "\n",
    "def plot_route(coords_df, best_route):\n",
    "\n",
    "\n",
    "    route_coords = coords_df.to_numpy()\n",
    "    route_x = [route_coords[i][0] for i in best_route]\n",
    "    route_y = [route_coords[i][1] for i in best_route]\n",
    "\n",
    "    fig = go.Figure()\n",
    "\n",
    "    fig.add_trace(go.Scatter(\n",
    "        x=route_x,\n",
    "        y=route_y,\n",
    "        mode='markers+lines',\n",
    "        name='Route',\n",
    "        marker=dict(size=10, color='blue'),\n",
    "        line=dict(color='orange', width=2)\n",
    "    ))\n",
    "\n",
    "    fig.add_trace(go.Scatter(\n",
    "        x=[route_x[0], route_x[-1]],  \n",
    "        y=[route_y[0], route_y[-1]],  \n",
    "        mode='markers',\n",
    "        name='Depot',\n",
    "        marker=dict(size=12, color='red')\n",
    "    ))\n",
    "\n",
    "    fig.update_layout(\n",
    "        title='Best Route Plot',\n",
    "        xaxis_title='X Coordinate',\n",
    "        yaxis_title='Y Coordinate',\n",
    "        showlegend=True\n",
    "    )\n",
    "\n",
    "    # Show plot\n",
    "    fig.show()\n"
   ]
  },
  {
   "cell_type": "code",
   "execution_count": null,
   "metadata": {},
   "outputs": [
    {
     "data": {
      "application/vnd.plotly.v1+json": {
       "config": {
        "plotlyServerURL": "https://plot.ly"
       },
       "data": [
        {
         "line": {
          "color": "orange",
          "width": 2
         },
         "marker": {
          "color": "blue",
          "size": 10
         },
         "mode": "markers+lines",
         "name": "Route",
         "type": "scatter",
         "x": [
          50,
          5.8083612168199465,
          2.0584494295802447,
          6.505159298527952,
          37.454011884736246,
          45.6069984217036,
          60.11150117432088,
          96.56320330745594,
          73.1993941811405,
          68.42330265121569,
          83.24426408004217,
          30.46137691733707,
          15.601864044243651,
          18.182496720710063,
          29.21446485352181,
          19.96737821583597,
          30.42422429595377,
          43.19450186421157,
          59.24145688620425,
          61.18528947223795,
          60.75448519014384,
          50
         ],
         "y": [
          50,
          86.61761457749351,
          96.99098521619943,
          94.88855372533332,
          95.07143064099162,
          78.51759613930136,
          70.80725777960456,
          80.83973481164611,
          59.86584841970366,
          44.01524937396013,
          21.233911067827616,
          9.767211400638388,
          15.599452033620263,
          18.34045098534338,
          36.63618432936917,
          51.42344384136116,
          52.475643163223786,
          29.122914019804192,
          4.645041271999773,
          13.949386065204184,
          17.052412368729154,
          50
         ]
        },
        {
         "marker": {
          "color": "red",
          "size": 12
         },
         "mode": "markers",
         "name": "Depot",
         "type": "scatter",
         "x": [
          50,
          50
         ],
         "y": [
          50,
          50
         ]
        }
       ],
       "layout": {
        "showlegend": true,
        "template": {
         "data": {
          "bar": [
           {
            "error_x": {
             "color": "#2a3f5f"
            },
            "error_y": {
             "color": "#2a3f5f"
            },
            "marker": {
             "line": {
              "color": "#E5ECF6",
              "width": 0.5
             },
             "pattern": {
              "fillmode": "overlay",
              "size": 10,
              "solidity": 0.2
             }
            },
            "type": "bar"
           }
          ],
          "barpolar": [
           {
            "marker": {
             "line": {
              "color": "#E5ECF6",
              "width": 0.5
             },
             "pattern": {
              "fillmode": "overlay",
              "size": 10,
              "solidity": 0.2
             }
            },
            "type": "barpolar"
           }
          ],
          "carpet": [
           {
            "aaxis": {
             "endlinecolor": "#2a3f5f",
             "gridcolor": "white",
             "linecolor": "white",
             "minorgridcolor": "white",
             "startlinecolor": "#2a3f5f"
            },
            "baxis": {
             "endlinecolor": "#2a3f5f",
             "gridcolor": "white",
             "linecolor": "white",
             "minorgridcolor": "white",
             "startlinecolor": "#2a3f5f"
            },
            "type": "carpet"
           }
          ],
          "choropleth": [
           {
            "colorbar": {
             "outlinewidth": 0,
             "ticks": ""
            },
            "type": "choropleth"
           }
          ],
          "contour": [
           {
            "colorbar": {
             "outlinewidth": 0,
             "ticks": ""
            },
            "colorscale": [
             [
              0,
              "#0d0887"
             ],
             [
              0.1111111111111111,
              "#46039f"
             ],
             [
              0.2222222222222222,
              "#7201a8"
             ],
             [
              0.3333333333333333,
              "#9c179e"
             ],
             [
              0.4444444444444444,
              "#bd3786"
             ],
             [
              0.5555555555555556,
              "#d8576b"
             ],
             [
              0.6666666666666666,
              "#ed7953"
             ],
             [
              0.7777777777777778,
              "#fb9f3a"
             ],
             [
              0.8888888888888888,
              "#fdca26"
             ],
             [
              1,
              "#f0f921"
             ]
            ],
            "type": "contour"
           }
          ],
          "contourcarpet": [
           {
            "colorbar": {
             "outlinewidth": 0,
             "ticks": ""
            },
            "type": "contourcarpet"
           }
          ],
          "heatmap": [
           {
            "colorbar": {
             "outlinewidth": 0,
             "ticks": ""
            },
            "colorscale": [
             [
              0,
              "#0d0887"
             ],
             [
              0.1111111111111111,
              "#46039f"
             ],
             [
              0.2222222222222222,
              "#7201a8"
             ],
             [
              0.3333333333333333,
              "#9c179e"
             ],
             [
              0.4444444444444444,
              "#bd3786"
             ],
             [
              0.5555555555555556,
              "#d8576b"
             ],
             [
              0.6666666666666666,
              "#ed7953"
             ],
             [
              0.7777777777777778,
              "#fb9f3a"
             ],
             [
              0.8888888888888888,
              "#fdca26"
             ],
             [
              1,
              "#f0f921"
             ]
            ],
            "type": "heatmap"
           }
          ],
          "heatmapgl": [
           {
            "colorbar": {
             "outlinewidth": 0,
             "ticks": ""
            },
            "colorscale": [
             [
              0,
              "#0d0887"
             ],
             [
              0.1111111111111111,
              "#46039f"
             ],
             [
              0.2222222222222222,
              "#7201a8"
             ],
             [
              0.3333333333333333,
              "#9c179e"
             ],
             [
              0.4444444444444444,
              "#bd3786"
             ],
             [
              0.5555555555555556,
              "#d8576b"
             ],
             [
              0.6666666666666666,
              "#ed7953"
             ],
             [
              0.7777777777777778,
              "#fb9f3a"
             ],
             [
              0.8888888888888888,
              "#fdca26"
             ],
             [
              1,
              "#f0f921"
             ]
            ],
            "type": "heatmapgl"
           }
          ],
          "histogram": [
           {
            "marker": {
             "pattern": {
              "fillmode": "overlay",
              "size": 10,
              "solidity": 0.2
             }
            },
            "type": "histogram"
           }
          ],
          "histogram2d": [
           {
            "colorbar": {
             "outlinewidth": 0,
             "ticks": ""
            },
            "colorscale": [
             [
              0,
              "#0d0887"
             ],
             [
              0.1111111111111111,
              "#46039f"
             ],
             [
              0.2222222222222222,
              "#7201a8"
             ],
             [
              0.3333333333333333,
              "#9c179e"
             ],
             [
              0.4444444444444444,
              "#bd3786"
             ],
             [
              0.5555555555555556,
              "#d8576b"
             ],
             [
              0.6666666666666666,
              "#ed7953"
             ],
             [
              0.7777777777777778,
              "#fb9f3a"
             ],
             [
              0.8888888888888888,
              "#fdca26"
             ],
             [
              1,
              "#f0f921"
             ]
            ],
            "type": "histogram2d"
           }
          ],
          "histogram2dcontour": [
           {
            "colorbar": {
             "outlinewidth": 0,
             "ticks": ""
            },
            "colorscale": [
             [
              0,
              "#0d0887"
             ],
             [
              0.1111111111111111,
              "#46039f"
             ],
             [
              0.2222222222222222,
              "#7201a8"
             ],
             [
              0.3333333333333333,
              "#9c179e"
             ],
             [
              0.4444444444444444,
              "#bd3786"
             ],
             [
              0.5555555555555556,
              "#d8576b"
             ],
             [
              0.6666666666666666,
              "#ed7953"
             ],
             [
              0.7777777777777778,
              "#fb9f3a"
             ],
             [
              0.8888888888888888,
              "#fdca26"
             ],
             [
              1,
              "#f0f921"
             ]
            ],
            "type": "histogram2dcontour"
           }
          ],
          "mesh3d": [
           {
            "colorbar": {
             "outlinewidth": 0,
             "ticks": ""
            },
            "type": "mesh3d"
           }
          ],
          "parcoords": [
           {
            "line": {
             "colorbar": {
              "outlinewidth": 0,
              "ticks": ""
             }
            },
            "type": "parcoords"
           }
          ],
          "pie": [
           {
            "automargin": true,
            "type": "pie"
           }
          ],
          "scatter": [
           {
            "fillpattern": {
             "fillmode": "overlay",
             "size": 10,
             "solidity": 0.2
            },
            "type": "scatter"
           }
          ],
          "scatter3d": [
           {
            "line": {
             "colorbar": {
              "outlinewidth": 0,
              "ticks": ""
             }
            },
            "marker": {
             "colorbar": {
              "outlinewidth": 0,
              "ticks": ""
             }
            },
            "type": "scatter3d"
           }
          ],
          "scattercarpet": [
           {
            "marker": {
             "colorbar": {
              "outlinewidth": 0,
              "ticks": ""
             }
            },
            "type": "scattercarpet"
           }
          ],
          "scattergeo": [
           {
            "marker": {
             "colorbar": {
              "outlinewidth": 0,
              "ticks": ""
             }
            },
            "type": "scattergeo"
           }
          ],
          "scattergl": [
           {
            "marker": {
             "colorbar": {
              "outlinewidth": 0,
              "ticks": ""
             }
            },
            "type": "scattergl"
           }
          ],
          "scattermapbox": [
           {
            "marker": {
             "colorbar": {
              "outlinewidth": 0,
              "ticks": ""
             }
            },
            "type": "scattermapbox"
           }
          ],
          "scatterpolar": [
           {
            "marker": {
             "colorbar": {
              "outlinewidth": 0,
              "ticks": ""
             }
            },
            "type": "scatterpolar"
           }
          ],
          "scatterpolargl": [
           {
            "marker": {
             "colorbar": {
              "outlinewidth": 0,
              "ticks": ""
             }
            },
            "type": "scatterpolargl"
           }
          ],
          "scatterternary": [
           {
            "marker": {
             "colorbar": {
              "outlinewidth": 0,
              "ticks": ""
             }
            },
            "type": "scatterternary"
           }
          ],
          "surface": [
           {
            "colorbar": {
             "outlinewidth": 0,
             "ticks": ""
            },
            "colorscale": [
             [
              0,
              "#0d0887"
             ],
             [
              0.1111111111111111,
              "#46039f"
             ],
             [
              0.2222222222222222,
              "#7201a8"
             ],
             [
              0.3333333333333333,
              "#9c179e"
             ],
             [
              0.4444444444444444,
              "#bd3786"
             ],
             [
              0.5555555555555556,
              "#d8576b"
             ],
             [
              0.6666666666666666,
              "#ed7953"
             ],
             [
              0.7777777777777778,
              "#fb9f3a"
             ],
             [
              0.8888888888888888,
              "#fdca26"
             ],
             [
              1,
              "#f0f921"
             ]
            ],
            "type": "surface"
           }
          ],
          "table": [
           {
            "cells": {
             "fill": {
              "color": "#EBF0F8"
             },
             "line": {
              "color": "white"
             }
            },
            "header": {
             "fill": {
              "color": "#C8D4E3"
             },
             "line": {
              "color": "white"
             }
            },
            "type": "table"
           }
          ]
         },
         "layout": {
          "annotationdefaults": {
           "arrowcolor": "#2a3f5f",
           "arrowhead": 0,
           "arrowwidth": 1
          },
          "autotypenumbers": "strict",
          "coloraxis": {
           "colorbar": {
            "outlinewidth": 0,
            "ticks": ""
           }
          },
          "colorscale": {
           "diverging": [
            [
             0,
             "#8e0152"
            ],
            [
             0.1,
             "#c51b7d"
            ],
            [
             0.2,
             "#de77ae"
            ],
            [
             0.3,
             "#f1b6da"
            ],
            [
             0.4,
             "#fde0ef"
            ],
            [
             0.5,
             "#f7f7f7"
            ],
            [
             0.6,
             "#e6f5d0"
            ],
            [
             0.7,
             "#b8e186"
            ],
            [
             0.8,
             "#7fbc41"
            ],
            [
             0.9,
             "#4d9221"
            ],
            [
             1,
             "#276419"
            ]
           ],
           "sequential": [
            [
             0,
             "#0d0887"
            ],
            [
             0.1111111111111111,
             "#46039f"
            ],
            [
             0.2222222222222222,
             "#7201a8"
            ],
            [
             0.3333333333333333,
             "#9c179e"
            ],
            [
             0.4444444444444444,
             "#bd3786"
            ],
            [
             0.5555555555555556,
             "#d8576b"
            ],
            [
             0.6666666666666666,
             "#ed7953"
            ],
            [
             0.7777777777777778,
             "#fb9f3a"
            ],
            [
             0.8888888888888888,
             "#fdca26"
            ],
            [
             1,
             "#f0f921"
            ]
           ],
           "sequentialminus": [
            [
             0,
             "#0d0887"
            ],
            [
             0.1111111111111111,
             "#46039f"
            ],
            [
             0.2222222222222222,
             "#7201a8"
            ],
            [
             0.3333333333333333,
             "#9c179e"
            ],
            [
             0.4444444444444444,
             "#bd3786"
            ],
            [
             0.5555555555555556,
             "#d8576b"
            ],
            [
             0.6666666666666666,
             "#ed7953"
            ],
            [
             0.7777777777777778,
             "#fb9f3a"
            ],
            [
             0.8888888888888888,
             "#fdca26"
            ],
            [
             1,
             "#f0f921"
            ]
           ]
          },
          "colorway": [
           "#636efa",
           "#EF553B",
           "#00cc96",
           "#ab63fa",
           "#FFA15A",
           "#19d3f3",
           "#FF6692",
           "#B6E880",
           "#FF97FF",
           "#FECB52"
          ],
          "font": {
           "color": "#2a3f5f"
          },
          "geo": {
           "bgcolor": "white",
           "lakecolor": "white",
           "landcolor": "#E5ECF6",
           "showlakes": true,
           "showland": true,
           "subunitcolor": "white"
          },
          "hoverlabel": {
           "align": "left"
          },
          "hovermode": "closest",
          "mapbox": {
           "style": "light"
          },
          "paper_bgcolor": "white",
          "plot_bgcolor": "#E5ECF6",
          "polar": {
           "angularaxis": {
            "gridcolor": "white",
            "linecolor": "white",
            "ticks": ""
           },
           "bgcolor": "#E5ECF6",
           "radialaxis": {
            "gridcolor": "white",
            "linecolor": "white",
            "ticks": ""
           }
          },
          "scene": {
           "xaxis": {
            "backgroundcolor": "#E5ECF6",
            "gridcolor": "white",
            "gridwidth": 2,
            "linecolor": "white",
            "showbackground": true,
            "ticks": "",
            "zerolinecolor": "white"
           },
           "yaxis": {
            "backgroundcolor": "#E5ECF6",
            "gridcolor": "white",
            "gridwidth": 2,
            "linecolor": "white",
            "showbackground": true,
            "ticks": "",
            "zerolinecolor": "white"
           },
           "zaxis": {
            "backgroundcolor": "#E5ECF6",
            "gridcolor": "white",
            "gridwidth": 2,
            "linecolor": "white",
            "showbackground": true,
            "ticks": "",
            "zerolinecolor": "white"
           }
          },
          "shapedefaults": {
           "line": {
            "color": "#2a3f5f"
           }
          },
          "ternary": {
           "aaxis": {
            "gridcolor": "white",
            "linecolor": "white",
            "ticks": ""
           },
           "baxis": {
            "gridcolor": "white",
            "linecolor": "white",
            "ticks": ""
           },
           "bgcolor": "#E5ECF6",
           "caxis": {
            "gridcolor": "white",
            "linecolor": "white",
            "ticks": ""
           }
          },
          "title": {
           "x": 0.05
          },
          "xaxis": {
           "automargin": true,
           "gridcolor": "white",
           "linecolor": "white",
           "ticks": "",
           "title": {
            "standoff": 15
           },
           "zerolinecolor": "white",
           "zerolinewidth": 2
          },
          "yaxis": {
           "automargin": true,
           "gridcolor": "white",
           "linecolor": "white",
           "ticks": "",
           "title": {
            "standoff": 15
           },
           "zerolinecolor": "white",
           "zerolinewidth": 2
          }
         }
        },
        "title": {
         "text": "Best Route Plot"
        },
        "xaxis": {
         "title": {
          "text": "X Coordinate"
         }
        },
        "yaxis": {
         "title": {
          "text": "Y Coordinate"
         }
        }
       }
      }
     },
     "metadata": {},
     "output_type": "display_data"
    }
   ],
   "source": [
    "plot_route(coords_df, best_route)\n"
   ]
  },
  {
   "cell_type": "markdown",
   "metadata": {},
   "source": [
    "# differntial evolution"
   ]
  },
  {
   "cell_type": "code",
   "execution_count": null,
   "metadata": {},
   "outputs": [
    {
     "data": {
      "text/plain": [
       "200"
      ]
     },
     "execution_count": 142,
     "metadata": {},
     "output_type": "execute_result"
    }
   ],
   "source": [
    "#Practical Advice: (e.g., start with NP = 10 * D, and CR = 0.9, F = 0.8)\n",
    "\n",
    "num_customers = len(coords) - 1\n",
    "num_populations = 10 * num_customers\n",
    "num_populations\n",
    "\n"
   ]
  },
  {
   "cell_type": "markdown",
   "metadata": {},
   "source": [
    "intialze population for differntial evolution"
   ]
  },
  {
   "cell_type": "code",
   "execution_count": null,
   "metadata": {},
   "outputs": [
    {
     "data": {
      "text/plain": [
       "array([[ 0,  9,  8, ..., 19, 11,  0],\n",
       "       [ 0, 20, 18, ..., 14, 11,  0],\n",
       "       [ 0, 17, 15, ..., 20,  5,  0],\n",
       "       ...,\n",
       "       [ 0, 15,  8, ..., 19, 12,  0],\n",
       "       [ 0,  9, 17, ..., 10, 15,  0],\n",
       "       [ 0,  7, 10, ..., 18,  5,  0]], shape=(200, 22))"
      ]
     },
     "execution_count": 143,
     "metadata": {},
     "output_type": "execute_result"
    }
   ],
   "source": [
    "diff_population=initialize_population(num_populations, num_customers)\n",
    "diff_population"
   ]
  },
  {
   "cell_type": "markdown",
   "metadata": {},
   "source": [
    "# mutation function for differntial "
   ]
  },
  {
   "cell_type": "code",
   "execution_count": null,
   "metadata": {},
   "outputs": [
    {
     "name": "stdout",
     "output_type": "stream",
     "text": [
      "[ 0 27  9  6 18 22 16  9  9 -4  8  9  4 22  5 11 22  0  1  9  7  0]\n"
     ]
    }
   ],
   "source": [
    "\n",
    "def mutate(diff_population, target_idx, F):\n",
    "\n",
    "    pop_size = len(diff_population)\n",
    "\n",
    "    indices = list(range(pop_size))\n",
    "    indices.remove(target_idx) # so i dont chooce target for calculation\n",
    "    x1, x2, x3 = diff_population[np.random.choice(indices, 3, replace=False)]\n",
    "\n",
    "    mutant = x3 + F * (x2 - x1)\n",
    "\n",
    "\n",
    "    mutant = np.round(mutant).astype(int)# formula can result in float values so i round them to int\n",
    "\n",
    "    return mutant\n",
    "\n",
    "F = 0.8  \n",
    "target_idx = 0  \n",
    "mutant_vector = mutate(diff_population, target_idx, F)\n",
    "print(mutant_vector)\n"
   ]
  },
  {
   "cell_type": "code",
   "execution_count": null,
   "metadata": {},
   "outputs": [],
   "source": [
    "# mutant_vector = validate_and_repair(mutant_vector, num_customers)"
   ]
  },
  {
   "cell_type": "code",
   "execution_count": null,
   "metadata": {},
   "outputs": [
    {
     "data": {
      "text/plain": [
       "array([  0,   9,  19,  -6, -12,  16,  12,  17,  18,   3,   4,  20,  13,\n",
       "        25,   1,  27,   8,  15,  -1,  -1,  -1,   0])"
      ]
     },
     "execution_count": 146,
     "metadata": {},
     "output_type": "execute_result"
    }
   ],
   "source": [
    "CR = 0.9  \n",
    "target = diff_population[0]  \n",
    "mutant = mutate(diff_population, 0, F=0.8)  \n",
    "\n",
    "if np.random.rand() < CR:\n",
    "    child = crossover(target, mutant)  \n",
    "else:\n",
    "    child = target  \n",
    "child "
   ]
  }
 ],
 "metadata": {
  "kernelspec": {
   "display_name": "Python 3",
   "language": "python",
   "name": "python3"
  },
  "language_info": {
   "codemirror_mode": {
    "name": "ipython",
    "version": 3
   },
   "file_extension": ".py",
   "mimetype": "text/x-python",
   "name": "python",
   "nbconvert_exporter": "python",
   "pygments_lexer": "ipython3",
   "version": "3.11.0"
  }
 },
 "nbformat": 4,
 "nbformat_minor": 4
}
